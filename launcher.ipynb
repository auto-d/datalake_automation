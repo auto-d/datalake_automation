{
 "cells": [
  {
   "cell_type": "markdown",
   "id": "01e00f2c-5970-43b8-af4f-159f57ffa655",
   "metadata": {},
   "source": [
    "# Datalake Setup Automation \n",
    "\n",
    "## Usage\n",
    "\n",
    "Run this notebook in an AWS Sagemaker Studio Jupyter interface or similar AWS-hosted VM in the context of an AWS user with permissions to create and upload to S3 buckets. "
   ]
  },
  {
   "cell_type": "code",
   "execution_count": 2,
   "id": "62da6890-6e22-414a-ae58-e51dc88ed4e8",
   "metadata": {
    "tags": []
   },
   "outputs": [],
   "source": [
    "# This will be preinstalled in the env if we run in Sagemaker studio\n",
    "import boto3"
   ]
  },
  {
   "cell_type": "markdown",
   "id": "b56c4e35-7dcc-462a-8f00-d18fdb14d958",
   "metadata": {},
   "source": [
    "# Datasets\n",
    "\n",
    "## Background\n",
    "The utility of information processing systems has resulted in widespread adoption by global industry, nation states, and multinational organizations. Compromise of the underlying hardware and software reliably is reliable cause of concern for these entities, and is frequently attributed to malicious activities from criminal organizations, activists and nation states. From a [recent headline](https://www.microsoft.com/en-us/security/blog/2024/08/30/north-korean-threat-actor-citrine-sleet-exploiting-chromium-zero-day/): \n",
    "\n",
    "> On August 19, 2024, Microsoft identified a North Korean threat actor exploiting a zero-day vulnerability in Chromium, now identified as CVE-2024-7971, to gain remote code execution (RCE). We assess with high confidence that the observed exploitation of CVE-2024-7971 can be attributed to a North Korean threat actor targeting the cryptocurrency sector for financial gain.\n",
    "\n",
    "Here we assemble a number of relevant data sources for downstream processing, feature engineering and analysist in support of generating software-security related insights. \n",
    "\n",
    "## Data sources\n",
    "\n",
    "1. Chromium source code\n",
    "2. Firefox source code\n",
    "2. Common Vulnerabilities and Exposures (CVE) database"
   ]
  },
  {
   "cell_type": "markdown",
   "id": "fe88ddfd-6ee7-4842-ad83-f861eb7c517c",
   "metadata": {},
   "source": [
    "# Setup\n",
    "\n",
    "Ensure the environment has the right supporting packagers"
   ]
  },
  {
   "cell_type": "code",
   "execution_count": 3,
   "id": "b175146f-a94f-4820-b85e-a65bbe7375a5",
   "metadata": {
    "tags": []
   },
   "outputs": [
    {
     "name": "stdout",
     "output_type": "stream",
     "text": [
      "Requirement already satisfied: pysmartdl in /opt/conda/lib/python3.10/site-packages (1.3.4)\n",
      "\u001b[33mWARNING: Running pip as the 'root' user can result in broken permissions and conflicting behaviour with the system package manager. It is recommended to use a virtual environment instead: https://pip.pypa.io/warnings/venv\u001b[0m\u001b[33m\n",
      "\u001b[0m"
     ]
    }
   ],
   "source": [
    "!pip install pysmartdl "
   ]
  },
  {
   "cell_type": "markdown",
   "id": "eb48efb0-d65c-4b4c-b54d-0706fb5baeed",
   "metadata": {},
   "source": [
    "# Retrieval\n",
    "\n",
    "Go fetch the dataset(s) that will be uploaded to S3 to create our data lake. "
   ]
  },
  {
   "cell_type": "code",
   "execution_count": 4,
   "id": "2703588d-32d0-4f07-af61-e4b47bf4120c",
   "metadata": {
    "tags": []
   },
   "outputs": [],
   "source": [
    "import pySmartDL \n",
    "from IPython.display import display, clear_output\n",
    "import os\n",
    "import time"
   ]
  },
  {
   "cell_type": "code",
   "execution_count": 5,
   "id": "9f906f92-1a8d-4d7b-adc8-072d59e6f03b",
   "metadata": {
    "tags": []
   },
   "outputs": [],
   "source": [
    "downloads = [\n",
    "    { \n",
    "        'name': 'chromium source', \n",
    "        'url': 'https://github.com/chromium/chromium/archive/refs/heads/main.zip', \n",
    "        'file' : 'data/chromium.zip'\n",
    "    }, \n",
    "    { \n",
    "        'name': 'firefox source', \n",
    "        'url': 'https://hg.mozilla.org/mozilla-central/archive/tip.zip', \n",
    "        'file' : 'data/firefox.zip'\n",
    "    }, \n",
    "    { \n",
    "        'name': 'CVE database', \n",
    "        'url': 'https://github.com/CVEProject/cvelistV5/archive/refs/heads/main.zip', \n",
    "        'file' : 'data/cve.zip'\n",
    "    }, \n",
    "]"
   ]
  },
  {
   "cell_type": "code",
   "execution_count": 6,
   "id": "214a6496-7d90-4095-85c2-205617bc6591",
   "metadata": {
    "tags": []
   },
   "outputs": [],
   "source": [
    "def http_download(url, file): \n",
    "    \"\"\"\n",
    "    Download a file via HTTP using a smart downloader to help with TCP timeouts, restarts, etc...\n",
    "    \n",
    "    Returns a smart downloader object\n",
    "    \"\"\"\n",
    "    downloader = pySmartDL.SmartDL(url, file, progress_bar=False)\n",
    "    downloader.start(blocking=False)\n",
    "    return downloader\n",
    "\n",
    "def http_progress(downloader, file, text): \n",
    "    \"\"\"\n",
    "    Monitor and report the progress of an active HTTP download\n",
    "    \"\"\"\n",
    "    # SmartDL often doesn't/can't report progress due to lack of insight into \n",
    "    # Total filesize (probably not reported by the server in the HTTP response)\n",
    "    # We manually monitor the file progress as a result, but the SmartDL lib \n",
    "    # doesn't expose the downloaded bytes to us sannoyingly. Note this temp file\n",
    "    # will disappear when the download completes, ignore any file not found errors. \n",
    "    temp_file = download['file']+'.000'\n",
    "    while not downloader.isFinished(): \n",
    "        clear_output(wait=True) \n",
    "        mb = 0\n",
    "        try: \n",
    "            mb = os.path.getsize(temp_file)/1024**2\n",
    "        except FileNotFoundError: \n",
    "            pass \n",
    "\n",
    "        t = f\"Retrieved {mb:.1f} MB @ {downloader.get_speed()/1000000:.1f} Mbps ...\"\n",
    "        print(text + t)\n",
    "        time.sleep(1)\n",
    "        \n",
    "    return text"
   ]
  },
  {
   "cell_type": "code",
   "execution_count": null,
   "id": "459dc744-b8d9-447e-86c1-5360ffa06974",
   "metadata": {
    "tags": []
   },
   "outputs": [
    {
     "name": "stdout",
     "output_type": "stream",
     "text": [
      "Downloading chromium source to data/chromium.zip...\n",
      "Complete.\n",
      "\n",
      "Downloading firefox source to data/firefox.zip...\n",
      "Retrieved 803.0 MB @ 4.5 Mbps ...\n"
     ]
    }
   ],
   "source": [
    "text = \"\" \n",
    "for download in downloads: \n",
    "    text = text + f\"Downloading {download['name']} to {download['file']}...\\n\"\n",
    "    downloader = http_download(download['url'], download['file'])\n",
    "    http_progress(downloader, download['file'], text)\n",
    "    text = text + f\"Complete.\\n\\n\""
   ]
  },
  {
   "cell_type": "markdown",
   "id": "e0d9ddb5-54ec-4681-8ba2-5094a43abee0",
   "metadata": {
    "tags": []
   },
   "source": [
    "# Set up Data Lake\n",
    "\n",
    "In AWS, any old S3 bucket can serve as a dumping ground for data. Prep a bucket to do so. \n",
    "\n",
    "AWS Boto3 documentation used to inform logic here. See https://boto3.amazonaws.com/v1/documentation/api/latest/guide/migrations3.html. "
   ]
  },
  {
   "cell_type": "code",
   "execution_count": null,
   "id": "921ec085-693a-4867-9d8f-dc1f90db5e17",
   "metadata": {
    "tags": []
   },
   "outputs": [],
   "source": [
    "import boto3\n",
    "import uuid"
   ]
  },
  {
   "cell_type": "code",
   "execution_count": null,
   "id": "e825bfd0-ad8d-4693-a3e6-4760f2707aac",
   "metadata": {},
   "outputs": [],
   "source": [
    "s3 = boto3.resource('s3') "
   ]
  },
  {
   "cell_type": "code",
   "execution_count": null,
   "id": "8220ca07-8ba9-4d8e-8bda-e7b41f931e8f",
   "metadata": {
    "tags": []
   },
   "outputs": [],
   "source": [
    "# Give our data lake a unique identifier\n",
    "bucket_name = f'{uuid.uuid4()}' "
   ]
  },
  {
   "cell_type": "code",
   "execution_count": null,
   "id": "a76454ad-fbdc-4618-9df7-e94d0e12d32d",
   "metadata": {
    "tags": []
   },
   "outputs": [],
   "source": [
    "response = s3.create_bucket(\n",
    "    Bucket=bucket_name, \n",
    "    # Appears to be unneccessay as this is the default location.. and weirdly \n",
    "    # generates an error\n",
    "    #CreateBucketConfiguration={'LocationConstraint': 'us-east-1'}\n",
    ")\n",
    "\n",
    "print(f\"Retrieved S3 bucket with ID {response}.\")"
   ]
  },
  {
   "cell_type": "markdown",
   "id": "f11f079b-10b8-4964-bc20-501c9bab4623",
   "metadata": {},
   "source": [
    "# Upload\n",
    "\n",
    "AWS Boto3 documentation used to inform logic here. See https://boto3.amazonaws.com/v1/documentation/api/latest/guide/migrations3.html. "
   ]
  },
  {
   "cell_type": "code",
   "execution_count": null,
   "id": "df5d6c5d-8a34-46ef-8f5a-d70562f56d14",
   "metadata": {
    "tags": []
   },
   "outputs": [],
   "source": [
    "response = None \n",
    "for download in downloads: \n",
    "    print(f\"Uploading {download['name']} to S3 bucket {bucket_name}...\")\n",
    "    ob = s3.Object(bucket_name, download['name'])\n",
    "    response = ob.put(Body=open(download['file'], 'rb'))\n",
    "    if 200 == response['ResponseMetadata']['HTTPStatusCode']: \n",
    "        print(\"Done.\") \n",
    "    else: \n",
    "        print(\"Unexpected response from server:\", response)\n",
    "    "
   ]
  },
  {
   "cell_type": "markdown",
   "id": "b7f1ff1b-76af-416d-af2b-115409377252",
   "metadata": {},
   "source": [
    "# Validate"
   ]
  },
  {
   "cell_type": "code",
   "execution_count": null,
   "id": "e8b31918-61e3-41cd-b947-8c4cb3d8b802",
   "metadata": {
    "tags": []
   },
   "outputs": [],
   "source": [
    "bucket = s3.Bucket(bucket_name)\n",
    "print(f\"S3 Bucket {bucket_name} contents: \")\n",
    "for ob in bucket.objects.all():\n",
    "    print(f\" - {ob.key}\")"
   ]
  },
  {
   "cell_type": "code",
   "execution_count": null,
   "id": "77b79641-86f1-4cdf-95d7-7b1cc4837c71",
   "metadata": {},
   "outputs": [],
   "source": []
  }
 ],
 "metadata": {
  "availableInstances": [
   {
    "_defaultOrder": 0,
    "_isFastLaunch": true,
    "category": "General purpose",
    "gpuNum": 0,
    "hideHardwareSpecs": false,
    "memoryGiB": 4,
    "name": "ml.t3.medium",
    "vcpuNum": 2
   },
   {
    "_defaultOrder": 1,
    "_isFastLaunch": false,
    "category": "General purpose",
    "gpuNum": 0,
    "hideHardwareSpecs": false,
    "memoryGiB": 8,
    "name": "ml.t3.large",
    "vcpuNum": 2
   },
   {
    "_defaultOrder": 2,
    "_isFastLaunch": false,
    "category": "General purpose",
    "gpuNum": 0,
    "hideHardwareSpecs": false,
    "memoryGiB": 16,
    "name": "ml.t3.xlarge",
    "vcpuNum": 4
   },
   {
    "_defaultOrder": 3,
    "_isFastLaunch": false,
    "category": "General purpose",
    "gpuNum": 0,
    "hideHardwareSpecs": false,
    "memoryGiB": 32,
    "name": "ml.t3.2xlarge",
    "vcpuNum": 8
   },
   {
    "_defaultOrder": 4,
    "_isFastLaunch": true,
    "category": "General purpose",
    "gpuNum": 0,
    "hideHardwareSpecs": false,
    "memoryGiB": 8,
    "name": "ml.m5.large",
    "vcpuNum": 2
   },
   {
    "_defaultOrder": 5,
    "_isFastLaunch": false,
    "category": "General purpose",
    "gpuNum": 0,
    "hideHardwareSpecs": false,
    "memoryGiB": 16,
    "name": "ml.m5.xlarge",
    "vcpuNum": 4
   },
   {
    "_defaultOrder": 6,
    "_isFastLaunch": false,
    "category": "General purpose",
    "gpuNum": 0,
    "hideHardwareSpecs": false,
    "memoryGiB": 32,
    "name": "ml.m5.2xlarge",
    "vcpuNum": 8
   },
   {
    "_defaultOrder": 7,
    "_isFastLaunch": false,
    "category": "General purpose",
    "gpuNum": 0,
    "hideHardwareSpecs": false,
    "memoryGiB": 64,
    "name": "ml.m5.4xlarge",
    "vcpuNum": 16
   },
   {
    "_defaultOrder": 8,
    "_isFastLaunch": false,
    "category": "General purpose",
    "gpuNum": 0,
    "hideHardwareSpecs": false,
    "memoryGiB": 128,
    "name": "ml.m5.8xlarge",
    "vcpuNum": 32
   },
   {
    "_defaultOrder": 9,
    "_isFastLaunch": false,
    "category": "General purpose",
    "gpuNum": 0,
    "hideHardwareSpecs": false,
    "memoryGiB": 192,
    "name": "ml.m5.12xlarge",
    "vcpuNum": 48
   },
   {
    "_defaultOrder": 10,
    "_isFastLaunch": false,
    "category": "General purpose",
    "gpuNum": 0,
    "hideHardwareSpecs": false,
    "memoryGiB": 256,
    "name": "ml.m5.16xlarge",
    "vcpuNum": 64
   },
   {
    "_defaultOrder": 11,
    "_isFastLaunch": false,
    "category": "General purpose",
    "gpuNum": 0,
    "hideHardwareSpecs": false,
    "memoryGiB": 384,
    "name": "ml.m5.24xlarge",
    "vcpuNum": 96
   },
   {
    "_defaultOrder": 12,
    "_isFastLaunch": false,
    "category": "General purpose",
    "gpuNum": 0,
    "hideHardwareSpecs": false,
    "memoryGiB": 8,
    "name": "ml.m5d.large",
    "vcpuNum": 2
   },
   {
    "_defaultOrder": 13,
    "_isFastLaunch": false,
    "category": "General purpose",
    "gpuNum": 0,
    "hideHardwareSpecs": false,
    "memoryGiB": 16,
    "name": "ml.m5d.xlarge",
    "vcpuNum": 4
   },
   {
    "_defaultOrder": 14,
    "_isFastLaunch": false,
    "category": "General purpose",
    "gpuNum": 0,
    "hideHardwareSpecs": false,
    "memoryGiB": 32,
    "name": "ml.m5d.2xlarge",
    "vcpuNum": 8
   },
   {
    "_defaultOrder": 15,
    "_isFastLaunch": false,
    "category": "General purpose",
    "gpuNum": 0,
    "hideHardwareSpecs": false,
    "memoryGiB": 64,
    "name": "ml.m5d.4xlarge",
    "vcpuNum": 16
   },
   {
    "_defaultOrder": 16,
    "_isFastLaunch": false,
    "category": "General purpose",
    "gpuNum": 0,
    "hideHardwareSpecs": false,
    "memoryGiB": 128,
    "name": "ml.m5d.8xlarge",
    "vcpuNum": 32
   },
   {
    "_defaultOrder": 17,
    "_isFastLaunch": false,
    "category": "General purpose",
    "gpuNum": 0,
    "hideHardwareSpecs": false,
    "memoryGiB": 192,
    "name": "ml.m5d.12xlarge",
    "vcpuNum": 48
   },
   {
    "_defaultOrder": 18,
    "_isFastLaunch": false,
    "category": "General purpose",
    "gpuNum": 0,
    "hideHardwareSpecs": false,
    "memoryGiB": 256,
    "name": "ml.m5d.16xlarge",
    "vcpuNum": 64
   },
   {
    "_defaultOrder": 19,
    "_isFastLaunch": false,
    "category": "General purpose",
    "gpuNum": 0,
    "hideHardwareSpecs": false,
    "memoryGiB": 384,
    "name": "ml.m5d.24xlarge",
    "vcpuNum": 96
   },
   {
    "_defaultOrder": 20,
    "_isFastLaunch": false,
    "category": "General purpose",
    "gpuNum": 0,
    "hideHardwareSpecs": true,
    "memoryGiB": 0,
    "name": "ml.geospatial.interactive",
    "supportedImageNames": [
     "sagemaker-geospatial-v1-0"
    ],
    "vcpuNum": 0
   },
   {
    "_defaultOrder": 21,
    "_isFastLaunch": true,
    "category": "Compute optimized",
    "gpuNum": 0,
    "hideHardwareSpecs": false,
    "memoryGiB": 4,
    "name": "ml.c5.large",
    "vcpuNum": 2
   },
   {
    "_defaultOrder": 22,
    "_isFastLaunch": false,
    "category": "Compute optimized",
    "gpuNum": 0,
    "hideHardwareSpecs": false,
    "memoryGiB": 8,
    "name": "ml.c5.xlarge",
    "vcpuNum": 4
   },
   {
    "_defaultOrder": 23,
    "_isFastLaunch": false,
    "category": "Compute optimized",
    "gpuNum": 0,
    "hideHardwareSpecs": false,
    "memoryGiB": 16,
    "name": "ml.c5.2xlarge",
    "vcpuNum": 8
   },
   {
    "_defaultOrder": 24,
    "_isFastLaunch": false,
    "category": "Compute optimized",
    "gpuNum": 0,
    "hideHardwareSpecs": false,
    "memoryGiB": 32,
    "name": "ml.c5.4xlarge",
    "vcpuNum": 16
   },
   {
    "_defaultOrder": 25,
    "_isFastLaunch": false,
    "category": "Compute optimized",
    "gpuNum": 0,
    "hideHardwareSpecs": false,
    "memoryGiB": 72,
    "name": "ml.c5.9xlarge",
    "vcpuNum": 36
   },
   {
    "_defaultOrder": 26,
    "_isFastLaunch": false,
    "category": "Compute optimized",
    "gpuNum": 0,
    "hideHardwareSpecs": false,
    "memoryGiB": 96,
    "name": "ml.c5.12xlarge",
    "vcpuNum": 48
   },
   {
    "_defaultOrder": 27,
    "_isFastLaunch": false,
    "category": "Compute optimized",
    "gpuNum": 0,
    "hideHardwareSpecs": false,
    "memoryGiB": 144,
    "name": "ml.c5.18xlarge",
    "vcpuNum": 72
   },
   {
    "_defaultOrder": 28,
    "_isFastLaunch": false,
    "category": "Compute optimized",
    "gpuNum": 0,
    "hideHardwareSpecs": false,
    "memoryGiB": 192,
    "name": "ml.c5.24xlarge",
    "vcpuNum": 96
   },
   {
    "_defaultOrder": 29,
    "_isFastLaunch": true,
    "category": "Accelerated computing",
    "gpuNum": 1,
    "hideHardwareSpecs": false,
    "memoryGiB": 16,
    "name": "ml.g4dn.xlarge",
    "vcpuNum": 4
   },
   {
    "_defaultOrder": 30,
    "_isFastLaunch": false,
    "category": "Accelerated computing",
    "gpuNum": 1,
    "hideHardwareSpecs": false,
    "memoryGiB": 32,
    "name": "ml.g4dn.2xlarge",
    "vcpuNum": 8
   },
   {
    "_defaultOrder": 31,
    "_isFastLaunch": false,
    "category": "Accelerated computing",
    "gpuNum": 1,
    "hideHardwareSpecs": false,
    "memoryGiB": 64,
    "name": "ml.g4dn.4xlarge",
    "vcpuNum": 16
   },
   {
    "_defaultOrder": 32,
    "_isFastLaunch": false,
    "category": "Accelerated computing",
    "gpuNum": 1,
    "hideHardwareSpecs": false,
